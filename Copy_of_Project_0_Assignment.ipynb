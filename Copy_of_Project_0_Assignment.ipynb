{
  "nbformat": 4,
  "nbformat_minor": 0,
  "metadata": {
    "kernelspec": {
      "display_name": "Python 3",
      "language": "python",
      "name": "python3"
    },
    "language_info": {
      "codemirror_mode": {
        "name": "ipython",
        "version": 3
      },
      "file_extension": ".py",
      "mimetype": "text/x-python",
      "name": "python",
      "nbconvert_exporter": "python",
      "pygments_lexer": "ipython3",
      "version": "3.7.3"
    },
    "colab": {
      "name": "Copy of Project 0 Assignment.ipynb",
      "provenance": [],
      "collapsed_sections": [],
      "include_colab_link": true
    }
  },
  "cells": [
    {
      "cell_type": "markdown",
      "metadata": {
        "id": "view-in-github",
        "colab_type": "text"
      },
      "source": [
        "<a href=\"https://colab.research.google.com/github/bbarnes4/cmsc320fall2020/blob/master/Copy_of_Project_0_Assignment.ipynb\" target=\"_parent\"><img src=\"https://colab.research.google.com/assets/colab-badge.svg\" alt=\"Open In Colab\"/></a>"
      ]
    },
    {
      "cell_type": "markdown",
      "metadata": {
        "id": "dQU-eoasgQOO",
        "colab_type": "text"
      },
      "source": [
        "This assignment is intended to ensure that you are able to edit and submit Jupyter Notebooks. \n",
        "\n",
        "The goal is to write a function to count the frequency of different characters in a given string. For example: character_frequency('google') should return a `dict`: {'g': 2, 'o': 2, 'l': 1, 'e': 1}. \n",
        "\n",
        "There are many tutorials on the web that can show you how to use the Python data structures. Quite a few examples at: https://docs.python.org/3/tutorial/datastructures.html\n",
        "\n",
        "If you have any trouble with this at all (and we are sure at least some of you will), don't worry and stop by our office hours.\n",
        "\n",
        "You should edit the function definition below, make sure to press 'Shift + Enter' to execute it, and then execute the two function calls to check that the output is correct."
      ]
    },
    {
      "cell_type": "code",
      "metadata": {
        "id": "41YUCWWGgQOW",
        "colab_type": "code",
        "colab": {}
      },
      "source": [
        "def character_frequency(s):\n",
        "    ret = dict()\n",
        "    for x in s:\n",
        "        keys = dict.keys()\n",
        "        if x in keys:\n",
        "            dict[x] += 1\n",
        "        else:\n",
        "            dict[x] = 1\n",
        "    return ret\n"
      ],
      "execution_count": null,
      "outputs": []
    },
    {
      "cell_type": "code",
      "metadata": {
        "id": "MNrJsrJygQOi",
        "colab_type": "code",
        "colab": {
          "base_uri": "https://localhost:8080/",
          "height": 35
        },
        "outputId": "17b83c20-442f-4e97-8083-759f615c48e4"
      },
      "source": [
        "character_frequency('google')"
      ],
      "execution_count": null,
      "outputs": [
        {
          "output_type": "execute_result",
          "data": {
            "text/plain": [
              "{'e': 1, 'g': 2, 'l': 1, 'o': 2}"
            ]
          },
          "metadata": {
            "tags": []
          },
          "execution_count": 15
        }
      ]
    },
    {
      "cell_type": "code",
      "metadata": {
        "id": "PSMuk-5AgQOs",
        "colab_type": "code",
        "colab": {
          "base_uri": "https://localhost:8080/",
          "height": 439
        },
        "outputId": "3ff63fcc-8cbd-421c-98f6-b9d557b7f5dd"
      },
      "source": [
        "character_frequency('This assignment is intended to ensure that you are able to edit and submit Jupyter Notebooks.')"
      ],
      "execution_count": null,
      "outputs": [
        {
          "output_type": "execute_result",
          "data": {
            "text/plain": [
              "{' ': 15,\n",
              " '.': 1,\n",
              " 'J': 1,\n",
              " 'N': 1,\n",
              " 'T': 1,\n",
              " 'a': 5,\n",
              " 'b': 3,\n",
              " 'd': 4,\n",
              " 'e': 10,\n",
              " 'g': 1,\n",
              " 'h': 2,\n",
              " 'i': 6,\n",
              " 'k': 1,\n",
              " 'l': 1,\n",
              " 'm': 2,\n",
              " 'n': 6,\n",
              " 'o': 6,\n",
              " 'p': 1,\n",
              " 'r': 3,\n",
              " 's': 7,\n",
              " 't': 10,\n",
              " 'u': 4,\n",
              " 'y': 2}"
            ]
          },
          "metadata": {
            "tags": []
          },
          "execution_count": 16
        }
      ]
    },
    {
      "cell_type": "code",
      "metadata": {
        "id": "H11sbNzPgQOx",
        "colab_type": "code",
        "colab": {}
      },
      "source": [
        ""
      ],
      "execution_count": null,
      "outputs": []
    }
  ]
}